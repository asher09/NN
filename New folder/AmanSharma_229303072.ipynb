{
  "cells": [
    {
      "cell_type": "code",
      "execution_count": null,
      "metadata": {
        "collapsed": true,
        "id": "PyxMY7_wgBi_"
      },
      "outputs": [],
      "source": [
        "!pip install torchvision==0.15.2+cu118 -f https://download.pytorch.org/whl/torch_stable.html\n",
        "\n",
        "\n",
        "\n",
        "\n",
        "\n"
      ]
    },
    {
      "cell_type": "code",
      "execution_count": null,
      "metadata": {
        "collapsed": true,
        "id": "jVEZY7jo44DO"
      },
      "outputs": [],
      "source": [
        "import torch\n",
        "import sys\n",
        "!pip install --upgrade --force-reinstall numpy pillow torchvision\n",
        "sys.path.insert(0, \"/usr/local/lib/python3.11/dist-packages\")\n",
        "import torchvision\n",
        "from torchvision.datasets import MNIST\n",
        "from torch.utils.data import random_split, DataLoader\n",
        "import torchvision.transforms as transforms\n",
        "import torch.nn as nn\n",
        "import torch.nn.functional as F\n",
        "import torch.optim as optim\n",
        "import random\n",
        "import os\n",
        "import matplotlib.pyplot as plt\n",
        "import numpy as np\n",
        "\n",
        "os.environ[\"TORCH_COMPILE_MODE\"] = \"force_compile_off\""
      ]
    },
    {
      "cell_type": "markdown",
      "metadata": {
        "id": "n12nrokt8p2D"
      },
      "source": []
    },
    {
      "cell_type": "code",
      "execution_count": null,
      "metadata": {
        "id": "RBGkXmHJbjkp"
      },
      "outputs": [],
      "source": [
        "\n",
        "device = torch.device('cuda' if torch.cuda.is_available() else 'cpu')\n",
        "\n",
        "train_dataset = MNIST('./data', train=True, download=True, transform=transforms.ToTensor())\n",
        "test_dataset = MNIST('./data', train=False, download=True, transform=transforms.ToTensor())\n",
        "\n",
        "train_dataset, dev_dataset = random_split(train_dataset, [50000, 10000])"
      ]
    },
    {
      "cell_type": "code",
      "execution_count": null,
      "metadata": {
        "id": "22w6Rl-fbuxe"
      },
      "outputs": [],
      "source": [
        "batch_size = 64\n",
        "num_clients = 4"
      ]
    },
    {
      "cell_type": "markdown",
      "metadata": {
        "id": "irFcFIzacV6g"
      },
      "source": [
        "### Federated Model Architecture and Client Architecture"
      ]
    },
    {
      "cell_type": "code",
      "execution_count": null,
      "metadata": {
        "id": "yf3rL1C0cTHa"
      },
      "outputs": [],
      "source": [
        "# Define FederatedNet model architecture\n",
        "class FederatedNet(nn.Module):\n",
        "    def __init__(self):\n",
        "        super(FederatedNet, self).__init__()\n",
        "        self.conv1 = nn.Conv2d(1, 20, 5, 1)\n",
        "        self.conv2 = nn.Conv2d(20, 50, 5, 1)\n",
        "        self.fc1 = nn.Linear(4*4*50, 500)\n",
        "        self.fc2 = nn.Linear(500, 10)\n",
        "\n",
        "    def forward(self, x):\n",
        "        x = F.relu(self.conv1(x))\n",
        "        x = F.max_pool2d(x, 2, 2)\n",
        "        x = F.relu(self.conv2(x))\n",
        "        x = F.max_pool2d(x, 2, 2)\n",
        "        x = x.view(-1, 4*4*50)\n",
        "        x = F.relu(self.fc1(x))\n",
        "        x = self.fc2(x)\n",
        "        return F.log_softmax(x, dim=1)\n",
        "\n",
        "class Client:\n",
        "    def __init__(self, client_id, dataset):\n",
        "        self.client_id = client_id\n",
        "        self.dataset = dataset\n",
        "\n",
        "    def train(self, global_model, epochs, lr):\n",
        "        model = FederatedNet().to(device)\n",
        "        model.load_state_dict(global_model.state_dict())\n",
        "        optimizer = optim.Adam(model.parameters(), lr=lr)\n",
        "\n",
        "        train_loader = DataLoader(self.dataset, batch_size=batch_size, shuffle=True)\n",
        "\n",
        "        for epoch in range(epochs):\n",
        "            model.train()\n",
        "            running_loss = 0.0\n",
        "            for data, target in train_loader:\n",
        "                data, target = data.to(device), target.to(device)\n",
        "                optimizer.zero_grad()\n",
        "                output = model(data)\n",
        "                loss = F.nll_loss(output, target)\n",
        "                loss.backward()\n",
        "                optimizer.step()\n",
        "                running_loss += loss.item() * data.size(0)\n",
        "            print(f'Client {self.client_id}, Epoch {epoch+1}, Loss: {running_loss / len(train_loader.dataset)}')\n",
        "\n",
        "        return model.state_dict()"
      ]
    },
    {
      "cell_type": "code",
      "execution_count": null,
      "metadata": {
        "id": "IWrPGkThb53z"
      },
      "outputs": [],
      "source": [
        "# Initialize global model and randomize its parameters\n",
        "global_model = FederatedNet().to(device)\n",
        "for param in global_model.parameters():\n",
        "    param.data = torch.randn_like(param)\n",
        "\n",
        "client_datasets = random_split(train_dataset, [len(train_dataset) // num_clients] * num_clients)"
      ]
    },
    {
      "cell_type": "code",
      "execution_count": null,
      "metadata": {
        "id": "anGVjS3ab_M3"
      },
      "outputs": [],
      "source": [
        "# client instances\n",
        "clients = [Client(client_id=i, dataset=client_datasets[i]) for i in range(num_clients)]\n",
        "\n",
        "# Federated learning parameters\n",
        "epochs_per_round = 5\n",
        "learning_rate = 0.0001\n",
        "rounds = 10"
      ]
    },
    {
      "cell_type": "code",
      "execution_count": null,
      "metadata": {
        "collapsed": true,
        "id": "m8wQjl52cFZo"
      },
      "outputs": [],
      "source": [
        "for round_num in range(rounds):\n",
        "    print(f'Starting round {round_num + 1}...')\n",
        "\n",
        "    # Aggregate client updates\n",
        "    new_global_state_dict = {}\n",
        "    for client in clients:\n",
        "        client_model_state_dict = client.train(global_model, epochs_per_round, learning_rate)\n",
        "\n",
        "        for key in client_model_state_dict:\n",
        "            if key in new_global_state_dict:\n",
        "                new_global_state_dict[key] += client_model_state_dict[key] / num_clients\n",
        "            else:\n",
        "                new_global_state_dict[key] = client_model_state_dict[key] / num_clients\n",
        "\n",
        "    global_model.load_state_dict(new_global_state_dict)\n",
        "\n",
        "    # Evaluation on training and validation sets\n",
        "    def evaluate(model, dataset):\n",
        "        model.eval()\n",
        "        dataloader = DataLoader(dataset, batch_size=batch_size)\n",
        "        total_loss = 0.0\n",
        "        total_correct = 0\n",
        "        with torch.no_grad():\n",
        "            for data, target in dataloader:\n",
        "                data, target = data.to(device), target.to(device)\n",
        "                output = model(data)\n",
        "                loss = F.nll_loss(output, target, reduction='sum').item()\n",
        "                total_loss += loss\n",
        "                pred = output.argmax(dim=1, keepdim=True)\n",
        "                total_correct += pred.eq(target.view_as(pred)).sum().item()\n",
        "        return total_loss / len(dataset), total_correct / len(dataset)\n",
        "\n",
        "    train_loss, train_acc = evaluate(global_model, train_dataset)\n",
        "    dev_loss, dev_acc = evaluate(global_model, dev_dataset)\n",
        "    print(f'\\nRound {round_num + 1}, Train Loss: {train_loss:.4f}, Train Acc: {train_acc:.4f}, Dev Loss: {dev_loss:.4f}, Dev Acc: {dev_acc:.4f}\\n')"
      ]
    },
    {
      "cell_type": "code",
      "execution_count": null,
      "metadata": {
        "id": "qlFG1xeacLPA"
      },
      "outputs": [],
      "source": [
        "# Evaluate final model\n",
        "test_loss, test_acc = evaluate(global_model, test_dataset)\n",
        "print(f'Final Test Loss: {test_loss:.4f}, Test Acc: {test_acc:.4f}')"
      ]
    },
    {
      "cell_type": "code",
      "execution_count": null,
      "metadata": {
        "id": "7AJvcJigEXMq"
      },
      "outputs": [],
      "source": [
        "torch.save(global_model.state_dict(), f\"global_model.pth\")"
      ]
    },
    {
      "cell_type": "code",
      "execution_count": null,
      "metadata": {
        "id": "2f4pA5cmFRfk"
      },
      "outputs": [],
      "source": [
        "# Show actual vs predicted labels using the global model on a client's data\n",
        "import matplotlib.pyplot as plt\n",
        "\n",
        "sample_loader = DataLoader(clients[0].dataset, batch_size=5, shuffle=True)\n",
        "images, labels = next(iter(sample_loader))\n",
        "images, labels = images.to(device), labels.to(device)\n",
        "\n",
        "global_model.eval()\n",
        "with torch.no_grad():\n",
        "    outputs = global_model(images)\n",
        "    preds = outputs.argmax(dim=1)\n",
        "\n",
        "fig, axes = plt.subplots(1, 5, figsize=(12, 3))\n",
        "for idx, ax in enumerate(axes):\n",
        "    ax.imshow(images[idx][0].cpu(), cmap=\"gray\")\n",
        "    ax.set_title(f\"True: {labels[idx].item()}\\nPred: {preds[idx].item()}\")\n",
        "    ax.axis(\"off\")\n",
        "plt.suptitle(\"Client 0: Actual vs Predicted\")\n",
        "plt.show()\n"
      ]
    }
  ],
  "metadata": {
    "accelerator": "GPU",
    "colab": {
      "gpuType": "T4",
      "private_outputs": true,
      "provenance": []
    },
    "kernelspec": {
      "display_name": "Python 3",
      "name": "python3"
    },
    "language_info": {
      "name": "python"
    }
  },
  "nbformat": 4,
  "nbformat_minor": 0
}
